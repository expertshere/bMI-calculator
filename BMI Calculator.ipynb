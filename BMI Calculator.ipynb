{
 "cells": [
  {
   "cell_type": "code",
   "execution_count": 1,
   "id": "536a14f2",
   "metadata": {},
   "outputs": [
    {
     "name": "stdout",
     "output_type": "stream",
     "text": [
      "enter the weight in kg:12\n",
      "enterthe height in meters:2\n",
      "under weight\n"
     ]
    }
   ],
   "source": [
    "weight=float(input(\"enter the weight in kg:\"))\n",
    "height=float(input(\"enterthe height in meters:\"))\n",
    "bmi=weight/(height**2)\n",
    "if bmi <18.5:\n",
    "    print(\"under weight\")\n",
    "elif 18.5<= bmi <25:\n",
    "    print(\"normal weight\")\n",
    "elif 25 <=bmi<30:\n",
    "    print(\"over weight\")\n",
    "else:\n",
    "    print(\"obese\")\n",
    "    \n",
    "    "
   ]
  },
  {
   "cell_type": "code",
   "execution_count": null,
   "id": "7f02f288",
   "metadata": {},
   "outputs": [],
   "source": []
  }
 ],
 "metadata": {
  "kernelspec": {
   "display_name": "Python 3 (ipykernel)",
   "language": "python",
   "name": "python3"
  },
  "language_info": {
   "codemirror_mode": {
    "name": "ipython",
    "version": 3
   },
   "file_extension": ".py",
   "mimetype": "text/x-python",
   "name": "python",
   "nbconvert_exporter": "python",
   "pygments_lexer": "ipython3",
   "version": "3.11.5"
  }
 },
 "nbformat": 4,
 "nbformat_minor": 5
}
